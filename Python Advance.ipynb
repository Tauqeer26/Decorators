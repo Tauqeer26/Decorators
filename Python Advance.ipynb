{
 "cells": [
  {
   "cell_type": "code",
   "execution_count": 12,
   "id": "0e1cccf6",
   "metadata": {},
   "outputs": [],
   "source": [
    "def my_decorator(func):\n",
    "    def wrappers():\n",
    "        print(\"The wrapper function call\")\n",
    "        func()\n",
    "    return wrappers\n",
    "\n",
    "@my_decorator\n",
    "def say_hello():\n",
    "    print(\"Greetings \")\n",
    "\n",
    "\n"
   ]
  },
  {
   "cell_type": "code",
   "execution_count": 13,
   "id": "a74d3831",
   "metadata": {},
   "outputs": [
    {
     "name": "stdout",
     "output_type": "stream",
     "text": [
      "The wrapper function call\n",
      "Greetings \n"
     ]
    }
   ],
   "source": [
    "say_hello()"
   ]
  },
  {
   "cell_type": "code",
   "execution_count": 17,
   "id": "a92284f7",
   "metadata": {},
   "outputs": [],
   "source": [
    "def repeat(num_times):\n",
    "    def decorator_repeat(func):\n",
    "        def wrapper(*args, **kwargs):\n",
    "            for i in range(num_times):\n",
    "                func(*args, **kwargs)\n",
    "        return wrapper\n",
    "    return decorator_repeat\n",
    "\n",
    "@repeat(num_times=3)\n",
    "def say_hello(name):\n",
    "    print(f\"Hello, {name}!\")\n",
    "\n",
    "\n"
   ]
  },
  {
   "cell_type": "code",
   "execution_count": 18,
   "id": "3be89317",
   "metadata": {},
   "outputs": [
    {
     "name": "stdout",
     "output_type": "stream",
     "text": [
      "Hello, Tauqeer!\n",
      "Hello, Tauqeer!\n",
      "Hello, Tauqeer!\n"
     ]
    }
   ],
   "source": [
    "say_hello(\"Tauqeer\")"
   ]
  },
  {
   "cell_type": "code",
   "execution_count": 20,
   "id": "3341d7df",
   "metadata": {},
   "outputs": [
    {
     "name": "stdout",
     "output_type": "stream",
     "text": [
      "<i><b>Hello, world!</b></i>\n"
     ]
    }
   ],
   "source": [
    "def make_bold(func):\n",
    "    def wrapper():\n",
    "        return f\"<b>{func()}</b>\"\n",
    "    return wrapper\n",
    "\n",
    "def make_italic(func):\n",
    "    def wrapper():\n",
    "        return f\"<i>{func()}</i>\"\n",
    "    return wrapper\n",
    "\n",
    "\n",
    "@make_italic\n",
    "@make_bold\n",
    "def say_hello():\n",
    "    return \"Hello, world!\"\n",
    "\n",
    "print(say_hello())\n"
   ]
  },
  {
   "cell_type": "code",
   "execution_count": 21,
   "id": "7c26387e",
   "metadata": {},
   "outputs": [
    {
     "name": "stdout",
     "output_type": "stream",
     "text": [
      "Function long_running_task took 2.0009 seconds to execute\n",
      "Task completed\n"
     ]
    }
   ],
   "source": [
    "import time\n",
    "\n",
    "def time_it(func):\n",
    "    def wrapper(*args, **kwargs):\n",
    "        start_time = time.time()\n",
    "        result = func(*args, **kwargs)\n",
    "        end_time = time.time()\n",
    "        print(f\"Function {func.__name__} took {end_time - start_time:.4f} seconds to execute\")\n",
    "        return result\n",
    "    return wrapper\n",
    "\n",
    "@time_it\n",
    "def long_running_task():\n",
    "    time.sleep(2)\n",
    "    return \"Task completed\"\n",
    "\n",
    "result = long_running_task()\n",
    "print(result)\n"
   ]
  },
  {
   "cell_type": "code",
   "execution_count": null,
   "id": "3957196e",
   "metadata": {},
   "outputs": [],
   "source": []
  }
 ],
 "metadata": {
  "kernelspec": {
   "display_name": "Python 3 (ipykernel)",
   "language": "python",
   "name": "python3"
  },
  "language_info": {
   "codemirror_mode": {
    "name": "ipython",
    "version": 3
   },
   "file_extension": ".py",
   "mimetype": "text/x-python",
   "name": "python",
   "nbconvert_exporter": "python",
   "pygments_lexer": "ipython3",
   "version": "3.10.5"
  }
 },
 "nbformat": 4,
 "nbformat_minor": 5
}
